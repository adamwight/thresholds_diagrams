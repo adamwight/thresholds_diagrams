{
 "cells": [
  {
   "cell_type": "code",
   "execution_count": 1,
   "metadata": {
    "collapsed": true
   },
   "outputs": [],
   "source": [
    "import numpy as np\n",
    "\n",
    "data = np.genfromtxt(\"damaging.csv\", skip_header=1, delimiter=\",\")"
   ]
  },
  {
   "cell_type": "code",
   "execution_count": 2,
   "metadata": {},
   "outputs": [],
   "source": [
    "from bokeh.io import output_notebook, export_svgs\n",
    "from bokeh.layouts import gridplot\n",
    "from bokeh.plotting import figure, show\n",
    "\n",
    "output_notebook()\n",
    "\n",
    "# Palette builder: https://toolness.github.io/accessible-color-matrix/\n",
    "\n",
    "p1 = figure(title=\"enwiki damaging precision vs. recall\")\n",
    "p1.line(data[:,8], data[:,2], color='#879908', legend='Recall')\n",
    "p1.line(data[:,8], data[:,3], color='#00CFFF', legend='Precision')\n",
    "p1.line(data[:,8], data[:,5], color='#000000', legend='Filter rate')\n",
    "p1.xaxis.axis_label = \"Threshold\"\n",
    "p1.legend.location = \"center_left\"\n",
    "\n",
    "# Markers referenced in the blog post.\n",
    "p1.circle(0.093, 0.77, size=10, fill_color='#000000', legend=\"maximum filter_rate @ recall >= 0.9\")\n",
    "p1.circle(0.148, 0.838, size=10, fill_color='#00ff00', legend=\"maximum recall @ precision >= 0.15\")\n",
    "\n",
    "p1.output_backend = \"svg\"\n",
    "#export_svgs(p1, \"\")\n",
    "\n",
    "# For interactive use:\n",
    "show(p1)"
   ]
  },
  {
   "cell_type": "code",
   "execution_count": null,
   "metadata": {
    "collapsed": true
   },
   "outputs": [],
   "source": []
  }
 ],
 "metadata": {
  "kernelspec": {
   "display_name": "Python 3",
   "language": "python",
   "name": "python3"
  },
  "language_info": {
   "codemirror_mode": {
    "name": "ipython",
    "version": 3
   },
   "file_extension": ".py",
   "mimetype": "text/x-python",
   "name": "python",
   "nbconvert_exporter": "python",
   "pygments_lexer": "ipython3",
   "version": "3.5.4"
  }
 },
 "nbformat": 4,
 "nbformat_minor": 2
}
